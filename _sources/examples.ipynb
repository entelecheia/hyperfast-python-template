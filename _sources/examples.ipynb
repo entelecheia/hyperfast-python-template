{
 "cells": [
  {
   "cell_type": "markdown",
   "id": "49e81cab",
   "metadata": {},
   "source": [
    "# Examples\n",
    "\n",
    ":Lastupdate: |lastupdate|\n",
    "\n",
    "This page contains a few examples of how you can use Hyperfast Python Template package.\n",
    "\n",
    "## Installation\n",
    "\n",
    "You can install Hyperfast Python Template using `pip`:"
   ]
  },
  {
   "cell_type": "code",
   "execution_count": 1,
   "id": "44540eb9",
   "metadata": {},
   "outputs": [
    {
     "name": "stdout",
     "output_type": "stream",
     "text": [
      "Collecting hyperfast-python-template\r\n"
     ]
    },
    {
     "name": "stdout",
     "output_type": "stream",
     "text": [
      "  Downloading hyperfast_python_template-0.5.0-py3-none-any.whl (6.1 kB)\r\n"
     ]
    },
    {
     "name": "stdout",
     "output_type": "stream",
     "text": [
      "Installing collected packages: hyperfast-python-template\r\n"
     ]
    },
    {
     "name": "stdout",
     "output_type": "stream",
     "text": [
      "Successfully installed hyperfast-python-template-0.5.0\r\n"
     ]
    },
    {
     "name": "stdout",
     "output_type": "stream",
     "text": [
      "\r\n",
      "\u001b[1m[\u001b[0m\u001b[34;49mnotice\u001b[0m\u001b[1;39;49m]\u001b[0m\u001b[39;49m A new release of pip is available: \u001b[0m\u001b[31;49m22.3.1\u001b[0m\u001b[39;49m -> \u001b[0m\u001b[32;49m23.1.2\u001b[0m\r\n",
      "\u001b[1m[\u001b[0m\u001b[34;49mnotice\u001b[0m\u001b[1;39;49m]\u001b[0m\u001b[39;49m To update, run: \u001b[0m\u001b[32;49mpip install --upgrade pip\u001b[0m\r\n"
     ]
    },
    {
     "name": "stdout",
     "output_type": "stream",
     "text": [
      "Note: you may need to restart the kernel to use updated packages.\n"
     ]
    }
   ],
   "source": [
    "pip install hyperfast-python-template"
   ]
  },
  {
   "cell_type": "markdown",
   "id": "be99ae65",
   "metadata": {},
   "source": [
    "## Usage\n",
    "\n",
    "```python\n",
    "from hyperfastpy import get_version\n",
    "\n",
    "print(get_version())\n",
    "```"
   ]
  }
 ],
 "metadata": {
  "jupytext": {
   "cell_metadata_filter": "-all",
   "formats": "md:myst",
   "text_representation": {
    "extension": ".md",
    "format_name": "myst",
    "format_version": 0.13,
    "jupytext_version": "1.11.5"
   }
  },
  "kernelspec": {
   "display_name": "Python 3",
   "language": "python",
   "name": "python3"
  },
  "language_info": {
   "codemirror_mode": {
    "name": "ipython",
    "version": 3
   },
   "file_extension": ".py",
   "mimetype": "text/x-python",
   "name": "python",
   "nbconvert_exporter": "python",
   "pygments_lexer": "ipython3",
   "version": "3.11.3"
  },
  "source_map": [
   14,
   26,
   28
  ]
 },
 "nbformat": 4,
 "nbformat_minor": 5
}