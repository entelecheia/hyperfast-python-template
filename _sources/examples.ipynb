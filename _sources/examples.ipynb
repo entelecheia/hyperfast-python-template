{
 "cells": [
  {
   "cell_type": "markdown",
   "id": "2df76227",
   "metadata": {},
   "source": [
    "# Examples\n",
    "\n",
    "This page contains a few examples of how you can use Hyperfast Python Template package.\n",
    "\n",
    "## Installation\n",
    "\n",
    "You can install Hyperfast Python Template using `pip`:"
   ]
  },
  {
   "cell_type": "code",
   "execution_count": 1,
   "id": "bdda07b5",
   "metadata": {},
   "outputs": [
    {
     "name": "stdout",
     "output_type": "stream",
     "text": [
      "Requirement already satisfied: hyperfast-python-template in /opt/hostedtoolcache/Python/3.9.21/x64/lib/python3.9/site-packages (0.16.3)\r\n",
      "Requirement already satisfied: click<9.0.0,>=8.1.3 in /opt/hostedtoolcache/Python/3.9.21/x64/lib/python3.9/site-packages (from hyperfast-python-template) (8.1.8)\r\n"
     ]
    },
    {
     "name": "stdout",
     "output_type": "stream",
     "text": [
      "Note: you may need to restart the kernel to use updated packages.\n"
     ]
    }
   ],
   "source": [
    "pip install hyperfast-python-template"
   ]
  },
  {
   "cell_type": "markdown",
   "id": "85c65875",
   "metadata": {},
   "source": [
    "## Usage\n",
    "\n",
    "```python\n",
    "from hyperfastpy import get_version\n",
    "\n",
    "print(get_version())\n",
    "```"
   ]
  }
 ],
 "metadata": {
  "jupytext": {
   "cell_metadata_filter": "-all",
   "formats": "md:myst",
   "text_representation": {
    "extension": ".md",
    "format_name": "myst",
    "format_version": 0.13,
    "jupytext_version": "1.11.5"
   }
  },
  "kernelspec": {
   "display_name": "Python 3",
   "language": "python",
   "name": "python3"
  },
  "language_info": {
   "codemirror_mode": {
    "name": "ipython",
    "version": 3
   },
   "file_extension": ".py",
   "mimetype": "text/x-python",
   "name": "python",
   "nbconvert_exporter": "python",
   "pygments_lexer": "ipython3",
   "version": "3.9.21"
  },
  "source_map": [
   14,
   24,
   26
  ]
 },
 "nbformat": 4,
 "nbformat_minor": 5
}